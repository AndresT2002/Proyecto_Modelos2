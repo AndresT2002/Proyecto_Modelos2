{
  "cells": [
    {
      "cell_type": "code",
      "execution_count": 27,
      "metadata": {
        "id": "JUjlT6iQ_xMS"
      },
      "outputs": [],
      "source": [
        "#Realizamos imports de librerias\n",
        "import pandas as pd\n",
        "from sklearn.linear_model import LogisticRegression\n",
        "from sklearn.metrics import accuracy_score\n",
        "from sklearn import preprocessing\n",
        "import matplotlib.pyplot as plt\n",
        "import numpy as np\n",
        "from sklearn.model_selection import train_test_split"
      ]
    },
    {
      "cell_type": "markdown",
      "metadata": {
        "id": "mzS5bzRxjdCE"
      },
      "source": [
        "##### Descarga de los datos"
      ]
    },
    {
      "cell_type": "code",
      "execution_count": 28,
      "metadata": {
        "colab": {
          "base_uri": "https://localhost:8080/"
        },
        "id": "w03HE5mZjdCF",
        "outputId": "6bf62f65-6e91-4dbe-94a7-ec01532f8adf"
      },
      "outputs": [
        {
          "name": "stderr",
          "output_type": "stream",
          "text": [
            "\"wget\" no se reconoce como un comando interno o externo,\n",
            "programa o archivo por lotes ejecutable.\n"
          ]
        }
      ],
      "source": [
        "!wget https://raw.githubusercontent.com/andres-calvo/modelos-1/master/train.csv -O train.csv"
      ]
    },
    {
      "cell_type": "markdown",
      "metadata": {
        "id": "L_Akf2A6UM8y"
      },
      "source": [
        "#### Carga y limpieza de datos"
      ]
    },
    {
      "cell_type": "code",
      "execution_count": 29,
      "metadata": {
        "id": "CCwtmXLbUMHS"
      },
      "outputs": [],
      "source": [
        "train=pd.read_csv('train.csv')\n",
        "train.drop('policy_id', axis=1, inplace=True)"
      ]
    },
    {
      "cell_type": "code",
      "execution_count": 30,
      "metadata": {
        "colab": {
          "base_uri": "https://localhost:8080/",
          "height": 412
        },
        "id": "s7NVTA0ejdCG",
        "outputId": "208a2174-9210-44d2-c1cc-7b2145b8e1b8"
      },
      "outputs": [
        {
          "data": {
            "text/html": [
              "<div>\n",
              "<style scoped>\n",
              "    .dataframe tbody tr th:only-of-type {\n",
              "        vertical-align: middle;\n",
              "    }\n",
              "\n",
              "    .dataframe tbody tr th {\n",
              "        vertical-align: top;\n",
              "    }\n",
              "\n",
              "    .dataframe thead th {\n",
              "        text-align: right;\n",
              "    }\n",
              "</style>\n",
              "<table border=\"1\" class=\"dataframe\">\n",
              "  <thead>\n",
              "    <tr style=\"text-align: right;\">\n",
              "      <th></th>\n",
              "      <th>policy_tenure</th>\n",
              "      <th>age_of_car</th>\n",
              "      <th>age_of_policyholder</th>\n",
              "      <th>area_cluster</th>\n",
              "      <th>population_density</th>\n",
              "      <th>make</th>\n",
              "      <th>segment</th>\n",
              "      <th>model</th>\n",
              "      <th>fuel_type</th>\n",
              "      <th>max_torque</th>\n",
              "      <th>...</th>\n",
              "      <th>is_brake_assist</th>\n",
              "      <th>is_power_door_locks</th>\n",
              "      <th>is_central_locking</th>\n",
              "      <th>is_power_steering</th>\n",
              "      <th>is_driver_seat_height_adjustable</th>\n",
              "      <th>is_day_night_rear_view_mirror</th>\n",
              "      <th>is_ecw</th>\n",
              "      <th>is_speed_alert</th>\n",
              "      <th>ncap_rating</th>\n",
              "      <th>is_claim</th>\n",
              "    </tr>\n",
              "  </thead>\n",
              "  <tbody>\n",
              "    <tr>\n",
              "      <th>0</th>\n",
              "      <td>0.515874</td>\n",
              "      <td>0.05</td>\n",
              "      <td>0.644231</td>\n",
              "      <td>0.0</td>\n",
              "      <td>4990</td>\n",
              "      <td>1</td>\n",
              "      <td>0</td>\n",
              "      <td>0</td>\n",
              "      <td>0</td>\n",
              "      <td>5</td>\n",
              "      <td>...</td>\n",
              "      <td>0</td>\n",
              "      <td>0</td>\n",
              "      <td>0</td>\n",
              "      <td>1</td>\n",
              "      <td>0</td>\n",
              "      <td>0</td>\n",
              "      <td>0</td>\n",
              "      <td>1</td>\n",
              "      <td>0</td>\n",
              "      <td>0</td>\n",
              "    </tr>\n",
              "    <tr>\n",
              "      <th>1</th>\n",
              "      <td>0.672619</td>\n",
              "      <td>0.02</td>\n",
              "      <td>0.375000</td>\n",
              "      <td>11.0</td>\n",
              "      <td>27003</td>\n",
              "      <td>1</td>\n",
              "      <td>0</td>\n",
              "      <td>0</td>\n",
              "      <td>0</td>\n",
              "      <td>5</td>\n",
              "      <td>...</td>\n",
              "      <td>0</td>\n",
              "      <td>0</td>\n",
              "      <td>0</td>\n",
              "      <td>1</td>\n",
              "      <td>0</td>\n",
              "      <td>0</td>\n",
              "      <td>0</td>\n",
              "      <td>1</td>\n",
              "      <td>0</td>\n",
              "      <td>0</td>\n",
              "    </tr>\n",
              "    <tr>\n",
              "      <th>2</th>\n",
              "      <td>0.841110</td>\n",
              "      <td>0.02</td>\n",
              "      <td>0.384615</td>\n",
              "      <td>15.0</td>\n",
              "      <td>4076</td>\n",
              "      <td>1</td>\n",
              "      <td>0</td>\n",
              "      <td>0</td>\n",
              "      <td>0</td>\n",
              "      <td>5</td>\n",
              "      <td>...</td>\n",
              "      <td>0</td>\n",
              "      <td>0</td>\n",
              "      <td>0</td>\n",
              "      <td>1</td>\n",
              "      <td>0</td>\n",
              "      <td>0</td>\n",
              "      <td>0</td>\n",
              "      <td>1</td>\n",
              "      <td>0</td>\n",
              "      <td>0</td>\n",
              "    </tr>\n",
              "    <tr>\n",
              "      <th>3</th>\n",
              "      <td>NaN</td>\n",
              "      <td>NaN</td>\n",
              "      <td>0.432692</td>\n",
              "      <td>NaN</td>\n",
              "      <td>21622</td>\n",
              "      <td>1</td>\n",
              "      <td>3</td>\n",
              "      <td>3</td>\n",
              "      <td>2</td>\n",
              "      <td>0</td>\n",
              "      <td>...</td>\n",
              "      <td>1</td>\n",
              "      <td>1</td>\n",
              "      <td>1</td>\n",
              "      <td>1</td>\n",
              "      <td>1</td>\n",
              "      <td>1</td>\n",
              "      <td>1</td>\n",
              "      <td>1</td>\n",
              "      <td>2</td>\n",
              "      <td>0</td>\n",
              "    </tr>\n",
              "    <tr>\n",
              "      <th>4</th>\n",
              "      <td>0.596403</td>\n",
              "      <td>0.11</td>\n",
              "      <td>0.634615</td>\n",
              "      <td>17.0</td>\n",
              "      <td>34738</td>\n",
              "      <td>2</td>\n",
              "      <td>0</td>\n",
              "      <td>4</td>\n",
              "      <td>2</td>\n",
              "      <td>8</td>\n",
              "      <td>...</td>\n",
              "      <td>0</td>\n",
              "      <td>1</td>\n",
              "      <td>1</td>\n",
              "      <td>1</td>\n",
              "      <td>0</td>\n",
              "      <td>1</td>\n",
              "      <td>1</td>\n",
              "      <td>1</td>\n",
              "      <td>2</td>\n",
              "      <td>0</td>\n",
              "    </tr>\n",
              "    <tr>\n",
              "      <th>5</th>\n",
              "      <td>1.018709</td>\n",
              "      <td>0.07</td>\n",
              "      <td>0.519231</td>\n",
              "      <td>18.0</td>\n",
              "      <td>13051</td>\n",
              "      <td>3</td>\n",
              "      <td>4</td>\n",
              "      <td>5</td>\n",
              "      <td>1</td>\n",
              "      <td>4</td>\n",
              "      <td>...</td>\n",
              "      <td>1</td>\n",
              "      <td>1</td>\n",
              "      <td>1</td>\n",
              "      <td>1</td>\n",
              "      <td>1</td>\n",
              "      <td>0</td>\n",
              "      <td>1</td>\n",
              "      <td>1</td>\n",
              "      <td>3</td>\n",
              "      <td>0</td>\n",
              "    </tr>\n",
              "    <tr>\n",
              "      <th>6</th>\n",
              "      <td>0.097992</td>\n",
              "      <td>0.16</td>\n",
              "      <td>0.403846</td>\n",
              "      <td>19.0</td>\n",
              "      <td>6112</td>\n",
              "      <td>4</td>\n",
              "      <td>2</td>\n",
              "      <td>6</td>\n",
              "      <td>1</td>\n",
              "      <td>3</td>\n",
              "      <td>...</td>\n",
              "      <td>0</td>\n",
              "      <td>1</td>\n",
              "      <td>1</td>\n",
              "      <td>1</td>\n",
              "      <td>0</td>\n",
              "      <td>0</td>\n",
              "      <td>1</td>\n",
              "      <td>1</td>\n",
              "      <td>5</td>\n",
              "      <td>0</td>\n",
              "    </tr>\n",
              "    <tr>\n",
              "      <th>7</th>\n",
              "      <td>0.509085</td>\n",
              "      <td>0.14</td>\n",
              "      <td>0.423077</td>\n",
              "      <td>20.0</td>\n",
              "      <td>8794</td>\n",
              "      <td>1</td>\n",
              "      <td>2</td>\n",
              "      <td>7</td>\n",
              "      <td>2</td>\n",
              "      <td>0</td>\n",
              "      <td>...</td>\n",
              "      <td>1</td>\n",
              "      <td>1</td>\n",
              "      <td>1</td>\n",
              "      <td>1</td>\n",
              "      <td>1</td>\n",
              "      <td>1</td>\n",
              "      <td>1</td>\n",
              "      <td>1</td>\n",
              "      <td>2</td>\n",
              "      <td>0</td>\n",
              "    </tr>\n",
              "    <tr>\n",
              "      <th>8</th>\n",
              "      <td>0.282394</td>\n",
              "      <td>0.07</td>\n",
              "      <td>0.298077</td>\n",
              "      <td>19.0</td>\n",
              "      <td>6112</td>\n",
              "      <td>3</td>\n",
              "      <td>4</td>\n",
              "      <td>5</td>\n",
              "      <td>1</td>\n",
              "      <td>4</td>\n",
              "      <td>...</td>\n",
              "      <td>1</td>\n",
              "      <td>1</td>\n",
              "      <td>1</td>\n",
              "      <td>1</td>\n",
              "      <td>1</td>\n",
              "      <td>0</td>\n",
              "      <td>1</td>\n",
              "      <td>1</td>\n",
              "      <td>3</td>\n",
              "      <td>0</td>\n",
              "    </tr>\n",
              "    <tr>\n",
              "      <th>9</th>\n",
              "      <td>0.566255</td>\n",
              "      <td>0.04</td>\n",
              "      <td>0.442308</td>\n",
              "      <td>21.0</td>\n",
              "      <td>17804</td>\n",
              "      <td>1</td>\n",
              "      <td>2</td>\n",
              "      <td>8</td>\n",
              "      <td>2</td>\n",
              "      <td>0</td>\n",
              "      <td>...</td>\n",
              "      <td>1</td>\n",
              "      <td>1</td>\n",
              "      <td>1</td>\n",
              "      <td>1</td>\n",
              "      <td>1</td>\n",
              "      <td>1</td>\n",
              "      <td>1</td>\n",
              "      <td>1</td>\n",
              "      <td>0</td>\n",
              "      <td>0</td>\n",
              "    </tr>\n",
              "  </tbody>\n",
              "</table>\n",
              "<p>10 rows × 43 columns</p>\n",
              "</div>"
            ],
            "text/plain": [
              "   policy_tenure  age_of_car  age_of_policyholder  area_cluster  \\\n",
              "0       0.515874        0.05             0.644231           0.0   \n",
              "1       0.672619        0.02             0.375000          11.0   \n",
              "2       0.841110        0.02             0.384615          15.0   \n",
              "3            NaN         NaN             0.432692           NaN   \n",
              "4       0.596403        0.11             0.634615          17.0   \n",
              "5       1.018709        0.07             0.519231          18.0   \n",
              "6       0.097992        0.16             0.403846          19.0   \n",
              "7       0.509085        0.14             0.423077          20.0   \n",
              "8       0.282394        0.07             0.298077          19.0   \n",
              "9       0.566255        0.04             0.442308          21.0   \n",
              "\n",
              "   population_density  make  segment  model  fuel_type  max_torque  ...  \\\n",
              "0                4990     1        0      0          0           5  ...   \n",
              "1               27003     1        0      0          0           5  ...   \n",
              "2                4076     1        0      0          0           5  ...   \n",
              "3               21622     1        3      3          2           0  ...   \n",
              "4               34738     2        0      4          2           8  ...   \n",
              "5               13051     3        4      5          1           4  ...   \n",
              "6                6112     4        2      6          1           3  ...   \n",
              "7                8794     1        2      7          2           0  ...   \n",
              "8                6112     3        4      5          1           4  ...   \n",
              "9               17804     1        2      8          2           0  ...   \n",
              "\n",
              "   is_brake_assist  is_power_door_locks  is_central_locking  \\\n",
              "0                0                    0                   0   \n",
              "1                0                    0                   0   \n",
              "2                0                    0                   0   \n",
              "3                1                    1                   1   \n",
              "4                0                    1                   1   \n",
              "5                1                    1                   1   \n",
              "6                0                    1                   1   \n",
              "7                1                    1                   1   \n",
              "8                1                    1                   1   \n",
              "9                1                    1                   1   \n",
              "\n",
              "   is_power_steering  is_driver_seat_height_adjustable  \\\n",
              "0                  1                                 0   \n",
              "1                  1                                 0   \n",
              "2                  1                                 0   \n",
              "3                  1                                 1   \n",
              "4                  1                                 0   \n",
              "5                  1                                 1   \n",
              "6                  1                                 0   \n",
              "7                  1                                 1   \n",
              "8                  1                                 1   \n",
              "9                  1                                 1   \n",
              "\n",
              "   is_day_night_rear_view_mirror  is_ecw  is_speed_alert  ncap_rating  \\\n",
              "0                              0       0               1            0   \n",
              "1                              0       0               1            0   \n",
              "2                              0       0               1            0   \n",
              "3                              1       1               1            2   \n",
              "4                              1       1               1            2   \n",
              "5                              0       1               1            3   \n",
              "6                              0       1               1            5   \n",
              "7                              1       1               1            2   \n",
              "8                              0       1               1            3   \n",
              "9                              1       1               1            0   \n",
              "\n",
              "   is_claim  \n",
              "0         0  \n",
              "1         0  \n",
              "2         0  \n",
              "3         0  \n",
              "4         0  \n",
              "5         0  \n",
              "6         0  \n",
              "7         0  \n",
              "8         0  \n",
              "9         0  \n",
              "\n",
              "[10 rows x 43 columns]"
            ]
          },
          "execution_count": 30,
          "metadata": {},
          "output_type": "execute_result"
        }
      ],
      "source": [
        "#Transformamos los datos de las variables categóricas a una representación numérica\n",
        "for columns in train.columns:\n",
        "    if dict(train.dtypes)[columns] == 'object':\n",
        "        label_encoder = preprocessing.LabelEncoder()\n",
        "        train[columns] = label_encoder.fit_transform(train[columns])\n",
        "\n",
        "\n",
        "# Determinar cuántos valores nulos quieres en cada columna\n",
        "num_rows = train.shape[0]\n",
        "num_nulls = int(0.05 * num_rows)  # 5% de los valores nulos\n",
        "\n",
        "# Crear una lista aleatoria de índices de filas\n",
        "null_rows = np.random.choice(num_rows, size=num_nulls, replace=False)\n",
        "# Columnas donde simularemos los nulos\n",
        "null_columns=['policy_tenure','area_cluster','age_of_car']\n",
        "# Asignar valores nulos a las celdas correspondientes\n",
        "train.loc[null_rows, null_columns] = np.nan\n",
        "\n",
        "train.head(10)"
      ]
    },
    {
      "cell_type": "code",
      "execution_count": 31,
      "metadata": {
        "colab": {
          "base_uri": "https://localhost:8080/"
        },
        "id": "cEm9eXxNjdCH",
        "outputId": "af61fa3c-294f-4f29-fa19-1611746652ca"
      },
      "outputs": [
        {
          "name": "stdout",
          "output_type": "stream",
          "text": [
            "policy_tenure                       2929\n",
            "age_of_car                          2929\n",
            "age_of_policyholder                    0\n",
            "area_cluster                        2929\n",
            "population_density                     0\n",
            "make                                   0\n",
            "segment                                0\n",
            "model                                  0\n",
            "fuel_type                              0\n",
            "max_torque                             0\n",
            "max_power                              0\n",
            "engine_type                            0\n",
            "airbags                                0\n",
            "is_esc                                 0\n",
            "is_adjustable_steering                 0\n",
            "is_tpms                                0\n",
            "is_parking_sensors                     0\n",
            "is_parking_camera                      0\n",
            "rear_brakes_type                       0\n",
            "displacement                           0\n",
            "cylinder                               0\n",
            "transmission_type                      0\n",
            "gear_box                               0\n",
            "steering_type                          0\n",
            "turning_radius                         0\n",
            "length                                 0\n",
            "width                                  0\n",
            "height                                 0\n",
            "gross_weight                           0\n",
            "is_front_fog_lights                    0\n",
            "is_rear_window_wiper                   0\n",
            "is_rear_window_washer                  0\n",
            "is_rear_window_defogger                0\n",
            "is_brake_assist                        0\n",
            "is_power_door_locks                    0\n",
            "is_central_locking                     0\n",
            "is_power_steering                      0\n",
            "is_driver_seat_height_adjustable       0\n",
            "is_day_night_rear_view_mirror          0\n",
            "is_ecw                                 0\n",
            "is_speed_alert                         0\n",
            "ncap_rating                            0\n",
            "is_claim                               0\n",
            "dtype: int64\n"
          ]
        }
      ],
      "source": [
        "#Imprimimos la cantidad de NaN\n",
        "num_nans = train.isna().sum()\n",
        "print(num_nans)"
      ]
    },
    {
      "cell_type": "markdown",
      "metadata": {},
      "source": [
        "#### Modelado"
      ]
    },
    {
      "cell_type": "code",
      "execution_count": 32,
      "metadata": {
        "colab": {
          "base_uri": "https://localhost:8080/",
          "height": 74
        },
        "id": "I8dxktnYA8pt",
        "outputId": "492f8d1b-e3b3-491a-fc7a-98748086447b"
      },
      "outputs": [
        {
          "data": {
            "text/html": [
              "<style>#sk-container-id-4 {color: black;}#sk-container-id-4 pre{padding: 0;}#sk-container-id-4 div.sk-toggleable {background-color: white;}#sk-container-id-4 label.sk-toggleable__label {cursor: pointer;display: block;width: 100%;margin-bottom: 0;padding: 0.3em;box-sizing: border-box;text-align: center;}#sk-container-id-4 label.sk-toggleable__label-arrow:before {content: \"▸\";float: left;margin-right: 0.25em;color: #696969;}#sk-container-id-4 label.sk-toggleable__label-arrow:hover:before {color: black;}#sk-container-id-4 div.sk-estimator:hover label.sk-toggleable__label-arrow:before {color: black;}#sk-container-id-4 div.sk-toggleable__content {max-height: 0;max-width: 0;overflow: hidden;text-align: left;background-color: #f0f8ff;}#sk-container-id-4 div.sk-toggleable__content pre {margin: 0.2em;color: black;border-radius: 0.25em;background-color: #f0f8ff;}#sk-container-id-4 input.sk-toggleable__control:checked~div.sk-toggleable__content {max-height: 200px;max-width: 100%;overflow: auto;}#sk-container-id-4 input.sk-toggleable__control:checked~label.sk-toggleable__label-arrow:before {content: \"▾\";}#sk-container-id-4 div.sk-estimator input.sk-toggleable__control:checked~label.sk-toggleable__label {background-color: #d4ebff;}#sk-container-id-4 div.sk-label input.sk-toggleable__control:checked~label.sk-toggleable__label {background-color: #d4ebff;}#sk-container-id-4 input.sk-hidden--visually {border: 0;clip: rect(1px 1px 1px 1px);clip: rect(1px, 1px, 1px, 1px);height: 1px;margin: -1px;overflow: hidden;padding: 0;position: absolute;width: 1px;}#sk-container-id-4 div.sk-estimator {font-family: monospace;background-color: #f0f8ff;border: 1px dotted black;border-radius: 0.25em;box-sizing: border-box;margin-bottom: 0.5em;}#sk-container-id-4 div.sk-estimator:hover {background-color: #d4ebff;}#sk-container-id-4 div.sk-parallel-item::after {content: \"\";width: 100%;border-bottom: 1px solid gray;flex-grow: 1;}#sk-container-id-4 div.sk-label:hover label.sk-toggleable__label {background-color: #d4ebff;}#sk-container-id-4 div.sk-serial::before {content: \"\";position: absolute;border-left: 1px solid gray;box-sizing: border-box;top: 0;bottom: 0;left: 50%;z-index: 0;}#sk-container-id-4 div.sk-serial {display: flex;flex-direction: column;align-items: center;background-color: white;padding-right: 0.2em;padding-left: 0.2em;position: relative;}#sk-container-id-4 div.sk-item {position: relative;z-index: 1;}#sk-container-id-4 div.sk-parallel {display: flex;align-items: stretch;justify-content: center;background-color: white;position: relative;}#sk-container-id-4 div.sk-item::before, #sk-container-id-4 div.sk-parallel-item::before {content: \"\";position: absolute;border-left: 1px solid gray;box-sizing: border-box;top: 0;bottom: 0;left: 50%;z-index: -1;}#sk-container-id-4 div.sk-parallel-item {display: flex;flex-direction: column;z-index: 1;position: relative;background-color: white;}#sk-container-id-4 div.sk-parallel-item:first-child::after {align-self: flex-end;width: 50%;}#sk-container-id-4 div.sk-parallel-item:last-child::after {align-self: flex-start;width: 50%;}#sk-container-id-4 div.sk-parallel-item:only-child::after {width: 0;}#sk-container-id-4 div.sk-dashed-wrapped {border: 1px dashed gray;margin: 0 0.4em 0.5em 0.4em;box-sizing: border-box;padding-bottom: 0.4em;background-color: white;}#sk-container-id-4 div.sk-label label {font-family: monospace;font-weight: bold;display: inline-block;line-height: 1.2em;}#sk-container-id-4 div.sk-label-container {text-align: center;}#sk-container-id-4 div.sk-container {/* jupyter's `normalize.less` sets `[hidden] { display: none; }` but bootstrap.min.css set `[hidden] { display: none !important; }` so we also need the `!important` here to be able to override the default hidden behavior on the sphinx rendered scikit-learn.org. See: https://github.com/scikit-learn/scikit-learn/issues/21755 */display: inline-block !important;position: relative;}#sk-container-id-4 div.sk-text-repr-fallback {display: none;}</style><div id=\"sk-container-id-4\" class=\"sk-top-container\"><div class=\"sk-text-repr-fallback\"><pre>LogisticRegression()</pre><b>In a Jupyter environment, please rerun this cell to show the HTML representation or trust the notebook. <br />On GitHub, the HTML representation is unable to render, please try loading this page with nbviewer.org.</b></div><div class=\"sk-container\" hidden><div class=\"sk-item\"><div class=\"sk-estimator sk-toggleable\"><input class=\"sk-toggleable__control sk-hidden--visually\" id=\"sk-estimator-id-4\" type=\"checkbox\" checked><label for=\"sk-estimator-id-4\" class=\"sk-toggleable__label sk-toggleable__label-arrow\">LogisticRegression</label><div class=\"sk-toggleable__content\"><pre>LogisticRegression()</pre></div></div></div></div></div>"
            ],
            "text/plain": [
              "LogisticRegression()"
            ]
          },
          "execution_count": 32,
          "metadata": {},
          "output_type": "execute_result"
        }
      ],
      "source": [
        "#Eliminamos las filas con NaN para poder utilizar un modelo de regresión logística\n",
        "train.dropna(inplace=True)\n",
        "\n",
        "#Desarrollo modelo regresión logística\n",
        "\n",
        "#Inicialización.\n",
        "modelLR = LogisticRegression()\n",
        "\n",
        "#División de datos en conjunto de evaluación y conjunto de entrenamiento\n",
        "X_train, X_test, y_train, y_test = train_test_split(train.drop(['is_claim'], axis=1), train['is_claim'], test_size=0.3, shuffle=True)\n",
        "\n",
        "\n",
        "modelLR.fit(X_train, y_train)"
      ]
    },
    {
      "cell_type": "code",
      "execution_count": 36,
      "metadata": {},
      "outputs": [
        {
          "data": {
            "image/png": "[encoded data removed]",
            "text/plain": [
              "<Figure size 800x600 with 1 Axes>"
            ]
          },
          "metadata": {},
          "output_type": "display_data"
        }
      ],
      "source": [
        "plt.figure(figsize=(8, 6))\n",
        "train['is_claim'].value_counts().plot(kind='bar', color='skyblue')\n",
        "plt.title(\"Frecuencia de Reclamos\")\n",
        "plt.xlabel('is_claim')\n",
        "plt.ylabel(\"Frecuencia\")\n",
        "plt.show()\n"
      ]
    },
    {
      "cell_type": "markdown",
      "metadata": {},
      "source": [
        "#### Predicciones y accuracy score"
      ]
    },
    {
      "cell_type": "code",
      "execution_count": 34,
      "metadata": {
        "colab": {
          "base_uri": "https://localhost:8080/"
        },
        "id": "6R7x05e6jdCI",
        "outputId": "5d741e37-7098-4e98-e423-f24a5d61f544"
      },
      "outputs": [
        {
          "data": {
            "text/plain": [
              "array([0, 0, 0, ..., 0, 0, 0], dtype=int64)"
            ]
          },
          "execution_count": 34,
          "metadata": {},
          "output_type": "execute_result"
        }
      ],
      "source": [
        "predictions = modelLR.predict(X_test)\n",
        "predictions"
      ]
    },
    {
      "cell_type": "code",
      "execution_count": 35,
      "metadata": {
        "colab": {
          "base_uri": "https://localhost:8080/"
        },
        "id": "-645MGTDHcee",
        "outputId": "eff13929-919a-4438-a5e7-5d0839a82952"
      },
      "outputs": [
        {
          "name": "stdout",
          "output_type": "stream",
          "text": [
            "Accuracy\n",
            "93.7002215701539\n"
          ]
        }
      ],
      "source": [
        "train_accuracy= accuracy_score(y_test,predictions)\n",
        "\n",
        "print('Accuracy')\n",
        "print( 100*train_accuracy)\n"
      ]
    }
  ],
  "metadata": {
    "colab": {
      "provenance": []
    },
    "kernelspec": {
      "display_name": "Python 3",
      "name": "python3"
    },
    "language_info": {
      "codemirror_mode": {
        "name": "ipython",
        "version": 3
      },
      "file_extension": ".py",
      "mimetype": "text/x-python",
      "name": "python",
      "nbconvert_exporter": "python",
      "pygments_lexer": "ipython3",
      "version": "3.8.3"
    }
  },
  "nbformat": 4,
  "nbformat_minor": 0
}
